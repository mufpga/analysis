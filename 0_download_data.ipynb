{
 "cells": [
  {
   "cell_type": "markdown",
   "id": "ac933659",
   "metadata": {},
   "source": [
    "# Download and extract data\n",
    "\n",
    "This notebook downloads and unzip the data from Zenodo. Note that it can take a little while."
   ]
  },
  {
   "cell_type": "code",
   "execution_count": 3,
   "id": "360fc672",
   "metadata": {},
   "outputs": [
    {
     "name": "stdout",
     "output_type": "stream",
     "text": [
      "Downloaded file.\n",
      "Unzipping...\n",
      "Done.\n"
     ]
    }
   ],
   "source": [
    "import os\n",
    "import wget\n",
    "import zipfile\n",
    "\n",
    "# download data\n",
    "file_zip = 'MicroFPGA_data.zip'\n",
    "if not os.path.exists(file_zip):\n",
    "    wget.download(\"https://zenodo.org/record/7454517/files/\"\n",
    "                  +file_zip+\"?download=1\", out=file_zip)\n",
    "    \n",
    "    print('Downloaded file.')\n",
    "    print('Unzipping...')\n",
    "    \n",
    "    # extract zip\n",
    "    if not os.path.exists('data'):\n",
    "        with zipfile.ZipFile(file_zip, 'r') as zip_ref:\n",
    "            zip_ref.extractall('.')\n",
    "            \n",
    "    \n",
    "    print('Done.')"
   ]
  },
  {
   "cell_type": "code",
   "execution_count": null,
   "id": "05e1c62e",
   "metadata": {},
   "outputs": [],
   "source": []
  }
 ],
 "metadata": {
  "kernelspec": {
   "display_name": "Python 3 (ipykernel)",
   "language": "python",
   "name": "python3"
  },
  "language_info": {
   "codemirror_mode": {
    "name": "ipython",
    "version": 3
   },
   "file_extension": ".py",
   "mimetype": "text/x-python",
   "name": "python",
   "nbconvert_exporter": "python",
   "pygments_lexer": "ipython3",
   "version": "3.8.13"
  }
 },
 "nbformat": 4,
 "nbformat_minor": 5
}
