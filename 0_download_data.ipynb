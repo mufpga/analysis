{
 "cells": [
  {
   "cell_type": "markdown",
   "id": "ac933659",
   "metadata": {},
   "source": [
    "# Download and extract data"
   ]
  },
  {
   "cell_type": "code",
   "execution_count": null,
   "id": "360fc672",
   "metadata": {},
   "outputs": [],
   "source": [
    "import os\n",
    "import wget\n",
    "import zipfile\n",
    "\n",
    "# download data\n",
    "file_zip = file+'.zip'\n",
    "if (os.path.isfile(file_zip[:-4])==False):\n",
    "    wget.download(\"https://zenodo.org/record/6418915/files/\"\n",
    "                  +file_zip+\"?download=1\", out=file_zip)\n",
    "    \n",
    "    # extract zip\n",
    "    with zipfile.ZipFile(file_zip, 'r') as zip_ref:\n",
    "        zip_ref.extractall('.')"
   ]
  }
 ],
 "metadata": {
  "kernelspec": {
   "display_name": "Python 3 (ipykernel)",
   "language": "python",
   "name": "python3"
  },
  "language_info": {
   "codemirror_mode": {
    "name": "ipython",
    "version": 3
   },
   "file_extension": ".py",
   "mimetype": "text/x-python",
   "name": "python",
   "nbconvert_exporter": "python",
   "pygments_lexer": "ipython3",
   "version": "3.8.5"
  }
 },
 "nbformat": 4,
 "nbformat_minor": 5
}
