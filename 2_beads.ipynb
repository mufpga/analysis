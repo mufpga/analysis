{
 "cells": [
  {
   "cell_type": "markdown",
   "id": "9ff51ed7",
   "metadata": {},
   "source": [
    "# Laser power increase - beads\n",
    "\n",
    "In order to download the data, run the [download_data notebook](0_download_data.ipynb) first. \n",
    "\n",
    "We immobilized TetraSpeck beads (ThermoFischer) onto a coverslip and placed it on a microscope. We cropped a small region around a single bead and acquired time-series for different values of a laser pulse duration. The time-series were acquired using a [Micro-Manager script](https://github.com/mufpga/analysis/blob/main/acquisition_scripts/beads_pulse_acquisition.bsh).\n"
   ]
  },
  {
   "cell_type": "code",
   "execution_count": 1,
   "id": "ffbea704",
   "metadata": {},
   "outputs": [],
   "source": [
    "import os, re\n",
    "import os.path as op\n",
    "import numpy as np\n",
    "import read_roi as rr\n",
    "import tifffile as tff\n",
    "from sklearn.linear_model import LinearRegression\n",
    "\n",
    "# define some matplotlib style for all figures\n",
    "%matplotlib inline \n",
    "import matplotlib.pyplot as plt\n",
    "import matplotlib as mpl\n",
    "mpl.rcParams['axes.spines.right'] = False\n",
    "mpl.rcParams['axes.spines.top'] = False\n",
    "mpl.rcParams['xtick.direction'] = 'in'\n",
    "mpl.rcParams['ytick.direction'] = 'in'"
   ]
  },
  {
   "cell_type": "code",
   "execution_count": 2,
   "id": "eafebd71",
   "metadata": {},
   "outputs": [],
   "source": [
    "def read_image(path, norm = False):\n",
    "    tif = tff.TiffFile(path)\n",
    "    \n",
    "    pages = []\n",
    "    for page in tif.pages:\n",
    "        array = page.asarray()\n",
    "        if norm:\n",
    "            array = array / np.max(array)\n",
    "            \n",
    "        pages.append(array)\n",
    "        \n",
    "    return np.array(pages)\n",
    "\n",
    "def read_roi(path):\n",
    "    return rr.read_roi_file(path)\n",
    "\n",
    "def extract_roi(roi):\n",
    "    y0 = roi['bead']['left']\n",
    "    x0 = roi['bead']['top']\n",
    "    w = roi['bead']['width']\n",
    "    h = roi['bead']['height']\n",
    "    \n",
    "    return x0, y0, w, h\n",
    "\n",
    "def average_img(img):\n",
    "    return np.mean(img, 0)\n",
    "\n",
    "def average_over_roi(img, roi):\n",
    "    if roi:\n",
    "        x0, y0, w, h = extract_roi(roi)\n",
    "    else:\n",
    "        x0 = 0\n",
    "        y0 = 0\n",
    "        w = img.shape[1]\n",
    "        h = img.shape[2]\n",
    "    \n",
    "    av_img = average_img(img)\n",
    "    \n",
    "    return np.mean(av_img[x0:x0+w, y0:y0+h])\n",
    "\n",
    "def get_roi_mask(img, roi):\n",
    "    mask = np.ones(img.shape)\n",
    "    \n",
    "    if roi:\n",
    "        x0, y0, w, h = extract_roi(roi)\n",
    "        mask[x0:x0+w, y0:y0+h] = 0\n",
    "    \n",
    "    return mask \n",
    "\n",
    "def overlay_roi_im(img, roi, value = 1):\n",
    "    arr = np.copy(img)\n",
    "    x0, y0, w, h = extract_roi(roi)\n",
    "    \n",
    "    for x in range(w+1):\n",
    "        arr[x0+x,y0] = value\n",
    "        arr[x0+x,y0+h] = value\n",
    "        \n",
    "    for y in range(h):\n",
    "        arr[x0,y0+y] = value\n",
    "        arr[x0+w,y0+y] = value\n",
    "    \n",
    "    return arr\n",
    "\n",
    "def extract_pulse(name):\n",
    "    rev = name[::-1]\n",
    "    ind = rev.find('_')\n",
    "    \n",
    "    return int(name[len(name)-ind:])\n",
    "\n",
    "def generate_filename(file):\n",
    "    rev = file[::-1]\n",
    "    ind = rev.find(os.sep)\n",
    "    \n",
    "    return file[len(file)-ind:]+'_MMStack.ome.tif'\n",
    "\n",
    "def run_all(root, roi):\n",
    "    dirs = [x[0] for x in os.walk(root)]\n",
    "    if root in dirs:\n",
    "        dirs.remove(root)\n",
    "        \n",
    "    pulses = []\n",
    "    diff_means = []\n",
    "    inners = []\n",
    "    outers = []\n",
    "    stds = []\n",
    "    for f in dirs:\n",
    "        pulse = extract_pulse(f)\n",
    "        file_path = op.join(f, generate_filename(f))\n",
    "    \n",
    "        img = read_image(file_path)\n",
    "        inner = np.mean(average_over_roi(img, roi))\n",
    "        \n",
    "        inners.append(inner)\n",
    "        pulses.append(pulse)\n",
    "    \n",
    "    return pulses, inners\n",
    "\n",
    "def plot_fig(t, v, reg, name, s_x, s_y, file_name = None):\n",
    "    ax = plt.subplot(111)\n",
    "    \n",
    "    ind_min = np.argmin(t)\n",
    "    ind_max = np.argmax(t)\n",
    "    yt0 = reg.intercept_+t[ind_min]*reg.coef_[0]\n",
    "    yt1 = reg.intercept_+t[ind_max]*reg.coef_[0]\n",
    "    plt.plot([t[ind_min], t[ind_max]], [yt0, yt1], '-', linewidth = 0.7)\n",
    "    \n",
    "    plt.plot(t, v, '.')\n",
    "\n",
    "    #plt.ylim([-0.1, 1])\n",
    "    #plt.xlim([-0.1, 1])\n",
    "\n",
    "    plt.title(name)\n",
    "    plt.xlabel(s_x)\n",
    "    plt.ylabel(s_y)\n",
    "\n",
    "    if file_name:\n",
    "        dir_path = 'figs'\n",
    "        if not os.path.isdir(dir_path): os.mkdir(dir_path)\n",
    "        plt.savefig(op.join(dir_path,file_name+'.eps'), format='eps')\n",
    "        "
   ]
  },
  {
   "cell_type": "code",
   "execution_count": 3,
   "id": "a6328a00",
   "metadata": {},
   "outputs": [],
   "source": [
    "root = op.join('data','beads','640_5-500')\n",
    "roi = read_roi(op.join(root,'bead.roi'))"
   ]
  },
  {
   "cell_type": "code",
   "execution_count": 4,
   "id": "5c1128a9",
   "metadata": {
    "scrolled": true
   },
   "outputs": [
    {
     "data": {
      "text/plain": [
       "(<Figure size 432x288 with 1 Axes>,\n",
       " <matplotlib.image.AxesImage at 0x201b5e59a00>)"
      ]
     },
     "execution_count": 4,
     "metadata": {},
     "output_type": "execute_result"
    },
    {
     "data": {
      "image/png": "[encoded data removed]",
      "text/plain": [
       "<Figure size 432x288 with 1 Axes>"
      ]
     },
     "metadata": {
      "needs_background": "light"
     },
     "output_type": "display_data"
    }
   ],
   "source": [
    "# example showing a single frame with the roi and the outer mask\n",
    "img = read_image(op.join(root,'Beads_pulse_length_100','Beads_pulse_length_100_MMStack.ome.tif'))\n",
    "plt.figure(), plt.imshow(overlay_roi_im(average_img(img), roi, 1_000))"
   ]
  },
  {
   "cell_type": "code",
   "execution_count": 5,
   "id": "630e4c16",
   "metadata": {},
   "outputs": [
    {
     "name": "stdout",
     "output_type": "stream",
     "text": [
      "Linear fit: y=0.7928435863994558*x+202.52089647495367, R2 = 0.9994466237475355\n"
     ]
    },
    {
     "data": {
      "image/png": "[encoded data removed]",
      "text/plain": [
       "<Figure size 432x288 with 1 Axes>"
      ]
     },
     "metadata": {
      "needs_background": "light"
     },
     "output_type": "display_data"
    }
   ],
   "source": [
    "# compute values\n",
    "pulse_roi, inner_roi = run_all(root, roi)\n",
    "\n",
    "# linear fit\n",
    "x = np.array(pulse_roi).reshape(-1, 1)\n",
    "reg = LinearRegression().fit(x, inner_roi)\n",
    "print(f'Linear fit: y={reg.coef_[0]}*x+{reg.intercept_}, R2 = {reg.score(x, inner_roi)}')\n",
    "\n",
    "plot_fig(pulse_roi, inner_roi, reg, 'Inner mean (roi)', 'pulse (\\u03bcs)', 'mean pixel value', 'fig_beads_5-500')\n",
    "\n",
    "dir_path = 'figs'\n",
    "if not os.path.isdir(dir_path): os.mkdir(dir_path)\n",
    "plt.savefig(op.join(dir_path,'fig_beads_pulse.eps'), format='eps')"
   ]
  }
 ],
 "metadata": {
  "kernelspec": {
   "display_name": "Python 3 (ipykernel)",
   "language": "python",
   "name": "python3"
  },
  "language_info": {
   "codemirror_mode": {
    "name": "ipython",
    "version": 3
   },
   "file_extension": ".py",
   "mimetype": "text/x-python",
   "name": "python",
   "nbconvert_exporter": "python",
   "pygments_lexer": "ipython3",
   "version": "3.8.13"
  }
 },
 "nbformat": 4,
 "nbformat_minor": 5
}
