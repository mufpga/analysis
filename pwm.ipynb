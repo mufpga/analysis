{
 "cells": [
  {
   "cell_type": "code",
   "execution_count": 1,
   "id": "ce41559c",
   "metadata": {},
   "outputs": [],
   "source": [
    "import os\n",
    "import os.path as op\n",
    "import numpy as np\n",
    "import pandas as pd\n",
    "from scipy import stats\n",
    "\n",
    "%matplotlib inline\n",
    "import matplotlib as mpl\n",
    "import matplotlib.pyplot as plt\n",
    "\n",
    "# define some matplotlib style for all figures\n",
    "mpl.rcParams['axes.spines.right'] = False\n",
    "mpl.rcParams['axes.spines.top'] = False\n",
    "mpl.rcParams['xtick.direction'] = 'in'\n",
    "mpl.rcParams['ytick.direction'] = 'in'"
   ]
  },
  {
   "cell_type": "code",
   "execution_count": 2,
   "id": "40e88585",
   "metadata": {},
   "outputs": [],
   "source": [
    "def load_single(path):\n",
    "    # prior on the name\n",
    "    start = 'C1'\n",
    "    end = '0'\n",
    "    \n",
    "    last = len(path)-path[::-1].find(start[::-1])\n",
    "    perc = path[last:path.find(end)]\n",
    "    \n",
    "    if perc == '':\n",
    "        perc = '0'\n",
    "    \n",
    "    with open(path) as f:\n",
    "        lines = f.readlines()[5:]    \n",
    "        v = np.zeros((len(lines), 2))\n",
    "    \n",
    "        for i, l in enumerate(lines):\n",
    "            split = l.split(',')\n",
    "            v[i,0] = float(split[0])\n",
    "            v[i,1] = float(split[1])\n",
    "    \n",
    "        return v, 100*float(perc)/255 \n",
    "\n",
    "def load_all(path, files):\n",
    "    v_list = []\n",
    "    perc_list = []\n",
    "    for f in files:\n",
    "        v, v_true = load_single(op.join(path,f))\n",
    "        \n",
    "        v_list.append(v)\n",
    "        perc_list.append(v_true)\n",
    "        \n",
    "    return v_list, perc_list\n",
    "\n",
    "def get_color(ind):\n",
    "    colors = ['#0072BD', '#D95319','#EDB120','#7E2F8E','#77AC30','#4DBEEE','#A2142F']\n",
    "    return colors[ind%len(colors)]"
   ]
  },
  {
   "cell_type": "code",
   "execution_count": 3,
   "id": "d6cf8ada",
   "metadata": {},
   "outputs": [
    {
     "name": "stdout",
     "output_type": "stream",
     "text": [
      "[0.0, 24.705882352941178, 49.80392156862745, 74.90196078431373, 100.0]\n"
     ]
    }
   ],
   "source": [
    "# import data\n",
    "root = op.join('data','pwm')\n",
    "files = ['C1000002.txt', 'C16300000.txt', 'C112700000.txt', 'C119100000.txt', 'C125500000.txt']\n",
    "v_all, perc_list = load_all(root, files)\n",
    "print(perc_list)"
   ]
  },
  {
   "cell_type": "code",
   "execution_count": 4,
   "id": "ae54888a",
   "metadata": {},
   "outputs": [
    {
     "data": {
      "image/png": "[encoded data removed]",
      "text/plain": [
       "<Figure size 432x288 with 1 Axes>"
      ]
     },
     "metadata": {
      "needs_background": "light"
     },
     "output_type": "display_data"
    }
   ],
   "source": [
    "plt.figure()\n",
    "for v in v_all:\n",
    "    plt.plot(v[:,0]-np.min(v[:,0]),v[:,1])\n",
    "plt.title('PWM noise')\n",
    "plt.xlabel('time (s)')\n",
    "plt.ylabel('voltage (V)')\n",
    "\n",
    "dir_path = 'figs'\n",
    "if not os.path.isdir(dir_path): os.mkdir(dir_path)\n",
    "plt.savefig(op.join(dir_path,'fig_pwm_noise.eps'), format='eps')"
   ]
  },
  {
   "cell_type": "code",
   "execution_count": 5,
   "id": "99fe4f02",
   "metadata": {},
   "outputs": [
    {
     "data": {
      "image/png": "[encoded data removed]",
      "text/plain": [
       "<Figure size 432x288 with 1 Axes>"
      ]
     },
     "metadata": {
      "needs_background": "light"
     },
     "output_type": "display_data"
    }
   ],
   "source": [
    "# histogram\n",
    "ax = plt.subplot(111)\n",
    "for v in v_all:\n",
    "    plt.hist(v[:,1])"
   ]
  },
  {
   "cell_type": "code",
   "execution_count": 6,
   "id": "eeb7527c",
   "metadata": {},
   "outputs": [
    {
     "name": "stdout",
     "output_type": "stream",
     "text": [
      "   duty cycle (%)  analog output (V)   Std (V)  analog output (%)   Std (%)\n",
      "0        0.000000           0.029984  0.004815           0.599689  0.096308\n",
      "1       24.705882           1.295052  0.016192          25.901047  0.323839\n",
      "2       49.803922           2.577667  0.026757          51.553345  0.535138\n",
      "3       74.901961           3.855817  0.033793          77.116338  0.675853\n",
      "4      100.000000           5.046062  0.027883         100.921236  0.557652\n"
     ]
    }
   ],
   "source": [
    "# Compute means\n",
    "v_mean = np.zeros((len(v_all),))\n",
    "v_std = np.zeros((len(v_all),))\n",
    "for i, vals in enumerate(v_all):\n",
    "    v_mean[i] = np.mean(vals[:,1])\n",
    "    v_std[i] = np.std(vals[:,1])\n",
    "v_mean_perc = 100*v_mean/5\n",
    "v_std_perc = 100*v_std/5\n",
    "    \n",
    "s_x = 'duty cycle (%)'\n",
    "s_y = 'analog output (V)'\n",
    "s_std = 'Std (V)'\n",
    "s_y_perc = 'analog output (%)'\n",
    "s_std_perc = 'Std (%)'\n",
    "df = pd.DataFrame({s_x: perc_list, s_y: v_mean, s_std: v_std, s_y_perc: v_mean_perc, s_std_perc: v_std_perc})\n",
    "print(df)"
   ]
  },
  {
   "cell_type": "code",
   "execution_count": 7,
   "id": "ff7bde11",
   "metadata": {},
   "outputs": [
    {
     "name": "stdout",
     "output_type": "stream",
     "text": [
      "LinregressResult(slope=1.0066186536532706, intercept=1.005824012633731, rvalue=0.9998894824061414, pvalue=1.3946774830609291e-06, stderr=0.00864114027500737)\n",
      "R-squared: 0.999779\n"
     ]
    }
   ],
   "source": [
    "# Linear regression\n",
    "perc = np.array(perc_list)\n",
    "res = stats.linregress(perc, v_mean_perc)\n",
    "print(res)\n",
    "print(f\"R-squared: {res.rvalue**2:.6f}\")"
   ]
  },
  {
   "cell_type": "code",
   "execution_count": 8,
   "id": "1eef0c6b",
   "metadata": {},
   "outputs": [
    {
     "data": {
      "image/png": "[encoded data removed]",
      "text/plain": [
       "<Figure size 432x288 with 1 Axes>"
      ]
     },
     "metadata": {
      "needs_background": "light"
     },
     "output_type": "display_data"
    }
   ],
   "source": [
    "ax = plt.subplot(111)\n",
    "plt.plot(perc, res.intercept + res.slope*perc, '-', color = get_color(0), linewidth = 0.7)\n",
    "plt.plot(perc, v_mean_perc, '.', color = get_color(1))\n",
    "\n",
    "#plt.ylim([-0.1, 1])\n",
    "#plt.xlim([-0.1, 1])\n",
    "\n",
    "plt.title('PWM linearity')\n",
    "plt.xlabel(s_x)\n",
    "plt.ylabel(s_y_perc)\n",
    "\n",
    "dir_path = 'figs'\n",
    "if not os.path.isdir(dir_path): os.mkdir(dir_path)\n",
    "plt.savefig(op.join(dir_path,'fig_3a_pwm_linear.eps'), format='eps')"
   ]
  },
  {
   "cell_type": "code",
   "execution_count": null,
   "id": "0c30d9eb",
   "metadata": {},
   "outputs": [],
   "source": []
  }
 ],
 "metadata": {
  "kernelspec": {
   "display_name": "Python 3",
   "language": "python",
   "name": "python3"
  },
  "language_info": {
   "codemirror_mode": {
    "name": "ipython",
    "version": 3
   },
   "file_extension": ".py",
   "mimetype": "text/x-python",
   "name": "python",
   "nbconvert_exporter": "python",
   "pygments_lexer": "ipython3",
   "version": "3.8.5"
  }
 },
 "nbformat": 4,
 "nbformat_minor": 5
}
